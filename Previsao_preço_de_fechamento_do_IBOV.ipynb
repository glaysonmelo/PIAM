{
  "nbformat": 4,
  "nbformat_minor": 0,
  "metadata": {
    "colab": {
      "name": "Previsao_preço_de_fechamento_do_IBOV",
      "provenance": [],
      "collapsed_sections": []
    },
    "kernelspec": {
      "display_name": "Python 3",
      "name": "python3"
    }
  },
  "cells": [
    {
      "cell_type": "markdown",
      "metadata": {
        "id": "GJBs_flRovLc"
      },
      "source": [
        "## <strong>Previsão preço de fechamento do indice bovespa - IBOV</strong>\n",
        "\n",
        "O objetivo é utilizar machine learning para prever o preço de fechamento do indice bovespa - IBOV.\n",
        "\n",
        "Componentes do Grupo\n",
        "\n",
        "1.   Anderson Gleidson Marques\n",
        "2.   Eden de Oliveira Santana\n",
        "3.   Glayson De Melo Freitas\n",
        "\n",
        "Os dados utilizados são extraidos do yahoo finance. \n",
        "\n",
        "O dataset possui dados de 01/2010 a 12/2020"
      ]
    },
    {
      "cell_type": "markdown",
      "metadata": {
        "id": "vfjxkWSc8yx_"
      },
      "source": [
        "## <strong>Instalando e importando as bibliotecas</strong>"
      ]
    },
    {
      "cell_type": "code",
      "metadata": {
        "colab": {
          "base_uri": "https://localhost:8080/"
        },
        "id": "HaFifq8rphgu",
        "outputId": "ec435c75-5c7f-48b5-8d62-c2de1fa328bd"
      },
      "source": [
        "#Instalação do Yahoo Finance para obter os dados do incide IBOV\r\n",
        "!pip install yfinance --upgrade --no-cache-dir"
      ],
      "execution_count": 22,
      "outputs": [
        {
          "output_type": "stream",
          "text": [
            "Requirement already up-to-date: yfinance in /usr/local/lib/python3.6/dist-packages (0.1.55)\n",
            "Requirement already satisfied, skipping upgrade: lxml>=4.5.1 in /usr/local/lib/python3.6/dist-packages (from yfinance) (4.6.2)\n",
            "Requirement already satisfied, skipping upgrade: pandas>=0.24 in /usr/local/lib/python3.6/dist-packages (from yfinance) (1.1.5)\n",
            "Requirement already satisfied, skipping upgrade: requests>=2.20 in /usr/local/lib/python3.6/dist-packages (from yfinance) (2.23.0)\n",
            "Requirement already satisfied, skipping upgrade: multitasking>=0.0.7 in /usr/local/lib/python3.6/dist-packages (from yfinance) (0.0.9)\n",
            "Requirement already satisfied, skipping upgrade: numpy>=1.15 in /usr/local/lib/python3.6/dist-packages (from yfinance) (1.18.5)\n",
            "Requirement already satisfied, skipping upgrade: python-dateutil>=2.7.3 in /usr/local/lib/python3.6/dist-packages (from pandas>=0.24->yfinance) (2.8.1)\n",
            "Requirement already satisfied, skipping upgrade: pytz>=2017.2 in /usr/local/lib/python3.6/dist-packages (from pandas>=0.24->yfinance) (2018.9)\n",
            "Requirement already satisfied, skipping upgrade: chardet<4,>=3.0.2 in /usr/local/lib/python3.6/dist-packages (from requests>=2.20->yfinance) (3.0.4)\n",
            "Requirement already satisfied, skipping upgrade: urllib3!=1.25.0,!=1.25.1,<1.26,>=1.21.1 in /usr/local/lib/python3.6/dist-packages (from requests>=2.20->yfinance) (1.24.3)\n",
            "Requirement already satisfied, skipping upgrade: idna<3,>=2.5 in /usr/local/lib/python3.6/dist-packages (from requests>=2.20->yfinance) (2.10)\n",
            "Requirement already satisfied, skipping upgrade: certifi>=2017.4.17 in /usr/local/lib/python3.6/dist-packages (from requests>=2.20->yfinance) (2020.12.5)\n",
            "Requirement already satisfied, skipping upgrade: six>=1.5 in /usr/local/lib/python3.6/dist-packages (from python-dateutil>=2.7.3->pandas>=0.24->yfinance) (1.15.0)\n"
          ],
          "name": "stdout"
        }
      ]
    },
    {
      "cell_type": "code",
      "metadata": {
        "id": "gJr_9dXGpJ05"
      },
      "source": [
        "#Importação da bibliotecas\n",
        "import numpy as np\n",
        "import pandas as pd\n",
        "from sklearn.model_selection import GridSearchCV\n",
        "from sklearn.feature_selection import SelectKBest\n",
        "from sklearn import datasets, linear_model\n",
        "from sklearn.preprocessing import MinMaxScaler\n",
        "from sklearn.neural_network import MLPRegressor\n",
        "from sklearn.metrics import mean_squared_error, r2_score\n",
        "import matplotlib.pyplot as pl\n",
        "import seaborn as sns\n",
        "sns.set()\n",
        "\n",
        "import pandas_datareader.data as yahoo_finance\n",
        "import yfinance as yf\n",
        "\n",
        "yf.pdr_override()"
      ],
      "execution_count": 23,
      "outputs": []
    },
    {
      "cell_type": "markdown",
      "metadata": {
        "id": "FmLTgbJF86mP"
      },
      "source": [
        "## <strong>Obtendo os dados do Yahoo Finance</strong>"
      ]
    },
    {
      "cell_type": "code",
      "metadata": {
        "colab": {
          "base_uri": "https://localhost:8080/",
          "height": 0
        },
        "id": "uG4WN-rOnVTy",
        "outputId": "fac6e77a-7e1a-4930-9c7f-33cc32d82245"
      },
      "source": [
        "#Obtendo as coações do indice IBOV de Janeiro de 2010 a Dezembro de 2020\r\n",
        "ibov = yahoo_finance.get_data_yahoo('^BVSP',start=\"2010-01-01\",end=\"2020-12-11\")\r\n",
        "ibov = ibov.reset_index()\r\n",
        "ibov.tail()"
      ],
      "execution_count": 24,
      "outputs": [
        {
          "output_type": "stream",
          "text": [
            "\r[*********************100%***********************]  1 of 1 completed\n"
          ],
          "name": "stdout"
        },
        {
          "output_type": "execute_result",
          "data": {
            "text/html": [
              "<div>\n",
              "<style scoped>\n",
              "    .dataframe tbody tr th:only-of-type {\n",
              "        vertical-align: middle;\n",
              "    }\n",
              "\n",
              "    .dataframe tbody tr th {\n",
              "        vertical-align: top;\n",
              "    }\n",
              "\n",
              "    .dataframe thead th {\n",
              "        text-align: right;\n",
              "    }\n",
              "</style>\n",
              "<table border=\"1\" class=\"dataframe\">\n",
              "  <thead>\n",
              "    <tr style=\"text-align: right;\">\n",
              "      <th></th>\n",
              "      <th>Date</th>\n",
              "      <th>Open</th>\n",
              "      <th>High</th>\n",
              "      <th>Low</th>\n",
              "      <th>Close</th>\n",
              "      <th>Adj Close</th>\n",
              "      <th>Volume</th>\n",
              "    </tr>\n",
              "  </thead>\n",
              "  <tbody>\n",
              "    <tr>\n",
              "      <th>2699</th>\n",
              "      <td>2020-12-04</td>\n",
              "      <td>112294.0</td>\n",
              "      <td>113864.0</td>\n",
              "      <td>112294.0</td>\n",
              "      <td>113682.0</td>\n",
              "      <td>113682.0</td>\n",
              "      <td>8892900</td>\n",
              "    </tr>\n",
              "    <tr>\n",
              "      <th>2700</th>\n",
              "      <td>2020-12-07</td>\n",
              "      <td>113751.0</td>\n",
              "      <td>114531.0</td>\n",
              "      <td>112629.0</td>\n",
              "      <td>113625.0</td>\n",
              "      <td>113625.0</td>\n",
              "      <td>9633900</td>\n",
              "    </tr>\n",
              "    <tr>\n",
              "      <th>2701</th>\n",
              "      <td>2020-12-08</td>\n",
              "      <td>113590.0</td>\n",
              "      <td>114381.0</td>\n",
              "      <td>112820.0</td>\n",
              "      <td>113571.0</td>\n",
              "      <td>113571.0</td>\n",
              "      <td>8810900</td>\n",
              "    </tr>\n",
              "    <tr>\n",
              "      <th>2702</th>\n",
              "      <td>2020-12-09</td>\n",
              "      <td>113799.0</td>\n",
              "      <td>114020.0</td>\n",
              "      <td>112567.0</td>\n",
              "      <td>112722.0</td>\n",
              "      <td>112722.0</td>\n",
              "      <td>8431100</td>\n",
              "    </tr>\n",
              "    <tr>\n",
              "      <th>2703</th>\n",
              "      <td>2020-12-10</td>\n",
              "      <td>113002.0</td>\n",
              "      <td>115262.0</td>\n",
              "      <td>112732.0</td>\n",
              "      <td>114992.0</td>\n",
              "      <td>114992.0</td>\n",
              "      <td>11803600</td>\n",
              "    </tr>\n",
              "  </tbody>\n",
              "</table>\n",
              "</div>"
            ],
            "text/plain": [
              "           Date      Open      High       Low     Close  Adj Close    Volume\n",
              "2699 2020-12-04  112294.0  113864.0  112294.0  113682.0   113682.0   8892900\n",
              "2700 2020-12-07  113751.0  114531.0  112629.0  113625.0   113625.0   9633900\n",
              "2701 2020-12-08  113590.0  114381.0  112820.0  113571.0   113571.0   8810900\n",
              "2702 2020-12-09  113799.0  114020.0  112567.0  112722.0   112722.0   8431100\n",
              "2703 2020-12-10  113002.0  115262.0  112732.0  114992.0   114992.0  11803600"
            ]
          },
          "metadata": {
            "tags": []
          },
          "execution_count": 24
        }
      ]
    },
    {
      "cell_type": "code",
      "metadata": {
        "colab": {
          "base_uri": "https://localhost:8080/"
        },
        "id": "Pi60bK8WMl6-",
        "outputId": "2bf76b9c-9c04-4b1d-90ab-2aa9993e0d41"
      },
      "source": [
        "ibov.dtypes"
      ],
      "execution_count": 25,
      "outputs": [
        {
          "output_type": "execute_result",
          "data": {
            "text/plain": [
              "Date         datetime64[ns]\n",
              "Open                float64\n",
              "High                float64\n",
              "Low                 float64\n",
              "Close               float64\n",
              "Adj Close           float64\n",
              "Volume                int64\n",
              "dtype: object"
            ]
          },
          "metadata": {
            "tags": []
          },
          "execution_count": 25
        }
      ]
    },
    {
      "cell_type": "markdown",
      "metadata": {
        "id": "BbZj5HSO9Aw7"
      },
      "source": [
        "## <strong>Exibindo gráfico com preço de fechamento do periodo</strong>"
      ]
    },
    {
      "cell_type": "code",
      "metadata": {
        "colab": {
          "base_uri": "https://localhost:8080/",
          "height": 501
        },
        "id": "8M5qVS4Sm17u",
        "outputId": "8540b68c-e13c-4bda-9d4a-4305c6e3aa01"
      },
      "source": [
        "#Gráfico com a variação do preço de fechamento IBOV\r\n",
        "pl.title('Variação do preço de fechamento IBOV - 01/2010 a 12/2020')\r\n",
        "ibov[\"Close\"].plot(figsize=(20,8));"
      ],
      "execution_count": 7,
      "outputs": [
        {
          "output_type": "display_data",
          "data": {
            "image/png": "[encoded data removed]",
            "text/plain": [
              "<Figure size 1440x576 with 1 Axes>"
            ]
          },
          "metadata": {
            "tags": []
          }
        }
      ]
    },
    {
      "cell_type": "markdown",
      "metadata": {
        "id": "lU9ohWaI9Pf1"
      },
      "source": [
        "## <strong>Tratamento dos dados e criação de novas features</strong>"
      ]
    },
    {
      "cell_type": "code",
      "metadata": {
        "colab": {
          "base_uri": "https://localhost:8080/",
          "height": 359
        },
        "id": "blg7zZ-7NYrS",
        "outputId": "474ab9c6-dc2e-4eae-d3df-e68d9711983c"
      },
      "source": [
        "# Criando campos de média móvel\r\n",
        "# Os campos foram criados a partir do valor de fechamento da ação\r\n",
        "\r\n",
        "#Campo com média móvel com variação de 5 dias pregão\r\n",
        "ibov['MM_5_day'] = ibov['Close'].rolling(5).mean()\r\n",
        "\r\n",
        "# Campo com  média móvel com variação de 21 de pregrão\r\n",
        "ibov['MM_21_day'] = ibov['Close'].rolling(21).mean()\r\n",
        "\r\n",
        "ibov.head(10)"
      ],
      "execution_count": 8,
      "outputs": [
        {
          "output_type": "execute_result",
          "data": {
            "text/html": [
              "<div>\n",
              "<style scoped>\n",
              "    .dataframe tbody tr th:only-of-type {\n",
              "        vertical-align: middle;\n",
              "    }\n",
              "\n",
              "    .dataframe tbody tr th {\n",
              "        vertical-align: top;\n",
              "    }\n",
              "\n",
              "    .dataframe thead th {\n",
              "        text-align: right;\n",
              "    }\n",
              "</style>\n",
              "<table border=\"1\" class=\"dataframe\">\n",
              "  <thead>\n",
              "    <tr style=\"text-align: right;\">\n",
              "      <th></th>\n",
              "      <th>Date</th>\n",
              "      <th>Open</th>\n",
              "      <th>High</th>\n",
              "      <th>Low</th>\n",
              "      <th>Close</th>\n",
              "      <th>Adj Close</th>\n",
              "      <th>Volume</th>\n",
              "      <th>MM_5_day</th>\n",
              "      <th>MM_21_day</th>\n",
              "    </tr>\n",
              "  </thead>\n",
              "  <tbody>\n",
              "    <tr>\n",
              "      <th>0</th>\n",
              "      <td>2010-01-04</td>\n",
              "      <td>68587.0</td>\n",
              "      <td>70081.0</td>\n",
              "      <td>68587.0</td>\n",
              "      <td>70045.0</td>\n",
              "      <td>70045.0</td>\n",
              "      <td>1655400</td>\n",
              "      <td>NaN</td>\n",
              "      <td>NaN</td>\n",
              "    </tr>\n",
              "    <tr>\n",
              "      <th>1</th>\n",
              "      <td>2010-01-05</td>\n",
              "      <td>70046.0</td>\n",
              "      <td>70595.0</td>\n",
              "      <td>69928.0</td>\n",
              "      <td>70240.0</td>\n",
              "      <td>70240.0</td>\n",
              "      <td>1984200</td>\n",
              "      <td>NaN</td>\n",
              "      <td>NaN</td>\n",
              "    </tr>\n",
              "    <tr>\n",
              "      <th>2</th>\n",
              "      <td>2010-01-06</td>\n",
              "      <td>70237.0</td>\n",
              "      <td>70937.0</td>\n",
              "      <td>70016.0</td>\n",
              "      <td>70729.0</td>\n",
              "      <td>70729.0</td>\n",
              "      <td>2243600</td>\n",
              "      <td>NaN</td>\n",
              "      <td>NaN</td>\n",
              "    </tr>\n",
              "    <tr>\n",
              "      <th>3</th>\n",
              "      <td>2010-01-07</td>\n",
              "      <td>70723.0</td>\n",
              "      <td>70723.0</td>\n",
              "      <td>70045.0</td>\n",
              "      <td>70451.0</td>\n",
              "      <td>70451.0</td>\n",
              "      <td>1555000</td>\n",
              "      <td>NaN</td>\n",
              "      <td>NaN</td>\n",
              "    </tr>\n",
              "    <tr>\n",
              "      <th>4</th>\n",
              "      <td>2010-01-08</td>\n",
              "      <td>70455.0</td>\n",
              "      <td>70766.0</td>\n",
              "      <td>70158.0</td>\n",
              "      <td>70263.0</td>\n",
              "      <td>70263.0</td>\n",
              "      <td>1634400</td>\n",
              "      <td>70345.6</td>\n",
              "      <td>NaN</td>\n",
              "    </tr>\n",
              "    <tr>\n",
              "      <th>5</th>\n",
              "      <td>2010-01-11</td>\n",
              "      <td>70267.0</td>\n",
              "      <td>71068.0</td>\n",
              "      <td>70158.0</td>\n",
              "      <td>70433.0</td>\n",
              "      <td>70433.0</td>\n",
              "      <td>1569000</td>\n",
              "      <td>70423.2</td>\n",
              "      <td>NaN</td>\n",
              "    </tr>\n",
              "    <tr>\n",
              "      <th>6</th>\n",
              "      <td>2010-01-12</td>\n",
              "      <td>70429.0</td>\n",
              "      <td>70429.0</td>\n",
              "      <td>69284.0</td>\n",
              "      <td>70076.0</td>\n",
              "      <td>70076.0</td>\n",
              "      <td>1628600</td>\n",
              "      <td>70390.4</td>\n",
              "      <td>NaN</td>\n",
              "    </tr>\n",
              "    <tr>\n",
              "      <th>7</th>\n",
              "      <td>2010-01-13</td>\n",
              "      <td>70081.0</td>\n",
              "      <td>70626.0</td>\n",
              "      <td>69535.0</td>\n",
              "      <td>70385.0</td>\n",
              "      <td>70385.0</td>\n",
              "      <td>1818800</td>\n",
              "      <td>70321.6</td>\n",
              "      <td>NaN</td>\n",
              "    </tr>\n",
              "    <tr>\n",
              "      <th>8</th>\n",
              "      <td>2010-01-14</td>\n",
              "      <td>70377.0</td>\n",
              "      <td>70508.0</td>\n",
              "      <td>69661.0</td>\n",
              "      <td>69801.0</td>\n",
              "      <td>69801.0</td>\n",
              "      <td>1830200</td>\n",
              "      <td>70191.6</td>\n",
              "      <td>NaN</td>\n",
              "    </tr>\n",
              "    <tr>\n",
              "      <th>9</th>\n",
              "      <td>2010-01-15</td>\n",
              "      <td>69780.0</td>\n",
              "      <td>69788.0</td>\n",
              "      <td>68695.0</td>\n",
              "      <td>68978.0</td>\n",
              "      <td>68978.0</td>\n",
              "      <td>1648400</td>\n",
              "      <td>69934.6</td>\n",
              "      <td>NaN</td>\n",
              "    </tr>\n",
              "  </tbody>\n",
              "</table>\n",
              "</div>"
            ],
            "text/plain": [
              "        Date     Open     High  ...   Volume  MM_5_day  MM_21_day\n",
              "0 2010-01-04  68587.0  70081.0  ...  1655400       NaN        NaN\n",
              "1 2010-01-05  70046.0  70595.0  ...  1984200       NaN        NaN\n",
              "2 2010-01-06  70237.0  70937.0  ...  2243600       NaN        NaN\n",
              "3 2010-01-07  70723.0  70723.0  ...  1555000       NaN        NaN\n",
              "4 2010-01-08  70455.0  70766.0  ...  1634400   70345.6        NaN\n",
              "5 2010-01-11  70267.0  71068.0  ...  1569000   70423.2        NaN\n",
              "6 2010-01-12  70429.0  70429.0  ...  1628600   70390.4        NaN\n",
              "7 2010-01-13  70081.0  70626.0  ...  1818800   70321.6        NaN\n",
              "8 2010-01-14  70377.0  70508.0  ...  1830200   70191.6        NaN\n",
              "9 2010-01-15  69780.0  69788.0  ...  1648400   69934.6        NaN\n",
              "\n",
              "[10 rows x 9 columns]"
            ]
          },
          "metadata": {
            "tags": []
          },
          "execution_count": 8
        }
      ]
    },
    {
      "cell_type": "code",
      "metadata": {
        "colab": {
          "base_uri": "https://localhost:8080/",
          "height": 359
        },
        "id": "1kMhkt9hP8t7",
        "outputId": "06c33f94-f90f-4cc6-f8fd-130c391c2bed"
      },
      "source": [
        "#Como estamos tentando prever o valor de fechamento da IBOV, vamos fazer um shift com valor de fechamento da ação ou seja, vamos \"empurrar\" o valor da cotação. \r\n",
        "#Ex: O valor de fechamento do dia 12/01/2010, vamos \"empurrar\" para 11/01/2010.\r\n",
        "\r\n",
        "#Isso é necessário pois estamos tentando prever o fechamento do próximo dia\r\n",
        "\r\n",
        "ibov['Close'] = ibov['Close'].shift(-1)\r\n",
        "\r\n",
        "ibov.head(10)"
      ],
      "execution_count": 9,
      "outputs": [
        {
          "output_type": "execute_result",
          "data": {
            "text/html": [
              "<div>\n",
              "<style scoped>\n",
              "    .dataframe tbody tr th:only-of-type {\n",
              "        vertical-align: middle;\n",
              "    }\n",
              "\n",
              "    .dataframe tbody tr th {\n",
              "        vertical-align: top;\n",
              "    }\n",
              "\n",
              "    .dataframe thead th {\n",
              "        text-align: right;\n",
              "    }\n",
              "</style>\n",
              "<table border=\"1\" class=\"dataframe\">\n",
              "  <thead>\n",
              "    <tr style=\"text-align: right;\">\n",
              "      <th></th>\n",
              "      <th>Date</th>\n",
              "      <th>Open</th>\n",
              "      <th>High</th>\n",
              "      <th>Low</th>\n",
              "      <th>Close</th>\n",
              "      <th>Adj Close</th>\n",
              "      <th>Volume</th>\n",
              "      <th>MM_5_day</th>\n",
              "      <th>MM_21_day</th>\n",
              "    </tr>\n",
              "  </thead>\n",
              "  <tbody>\n",
              "    <tr>\n",
              "      <th>0</th>\n",
              "      <td>2010-01-04</td>\n",
              "      <td>68587.0</td>\n",
              "      <td>70081.0</td>\n",
              "      <td>68587.0</td>\n",
              "      <td>70240.0</td>\n",
              "      <td>70045.0</td>\n",
              "      <td>1655400</td>\n",
              "      <td>NaN</td>\n",
              "      <td>NaN</td>\n",
              "    </tr>\n",
              "    <tr>\n",
              "      <th>1</th>\n",
              "      <td>2010-01-05</td>\n",
              "      <td>70046.0</td>\n",
              "      <td>70595.0</td>\n",
              "      <td>69928.0</td>\n",
              "      <td>70729.0</td>\n",
              "      <td>70240.0</td>\n",
              "      <td>1984200</td>\n",
              "      <td>NaN</td>\n",
              "      <td>NaN</td>\n",
              "    </tr>\n",
              "    <tr>\n",
              "      <th>2</th>\n",
              "      <td>2010-01-06</td>\n",
              "      <td>70237.0</td>\n",
              "      <td>70937.0</td>\n",
              "      <td>70016.0</td>\n",
              "      <td>70451.0</td>\n",
              "      <td>70729.0</td>\n",
              "      <td>2243600</td>\n",
              "      <td>NaN</td>\n",
              "      <td>NaN</td>\n",
              "    </tr>\n",
              "    <tr>\n",
              "      <th>3</th>\n",
              "      <td>2010-01-07</td>\n",
              "      <td>70723.0</td>\n",
              "      <td>70723.0</td>\n",
              "      <td>70045.0</td>\n",
              "      <td>70263.0</td>\n",
              "      <td>70451.0</td>\n",
              "      <td>1555000</td>\n",
              "      <td>NaN</td>\n",
              "      <td>NaN</td>\n",
              "    </tr>\n",
              "    <tr>\n",
              "      <th>4</th>\n",
              "      <td>2010-01-08</td>\n",
              "      <td>70455.0</td>\n",
              "      <td>70766.0</td>\n",
              "      <td>70158.0</td>\n",
              "      <td>70433.0</td>\n",
              "      <td>70263.0</td>\n",
              "      <td>1634400</td>\n",
              "      <td>70345.6</td>\n",
              "      <td>NaN</td>\n",
              "    </tr>\n",
              "    <tr>\n",
              "      <th>5</th>\n",
              "      <td>2010-01-11</td>\n",
              "      <td>70267.0</td>\n",
              "      <td>71068.0</td>\n",
              "      <td>70158.0</td>\n",
              "      <td>70076.0</td>\n",
              "      <td>70433.0</td>\n",
              "      <td>1569000</td>\n",
              "      <td>70423.2</td>\n",
              "      <td>NaN</td>\n",
              "    </tr>\n",
              "    <tr>\n",
              "      <th>6</th>\n",
              "      <td>2010-01-12</td>\n",
              "      <td>70429.0</td>\n",
              "      <td>70429.0</td>\n",
              "      <td>69284.0</td>\n",
              "      <td>70385.0</td>\n",
              "      <td>70076.0</td>\n",
              "      <td>1628600</td>\n",
              "      <td>70390.4</td>\n",
              "      <td>NaN</td>\n",
              "    </tr>\n",
              "    <tr>\n",
              "      <th>7</th>\n",
              "      <td>2010-01-13</td>\n",
              "      <td>70081.0</td>\n",
              "      <td>70626.0</td>\n",
              "      <td>69535.0</td>\n",
              "      <td>69801.0</td>\n",
              "      <td>70385.0</td>\n",
              "      <td>1818800</td>\n",
              "      <td>70321.6</td>\n",
              "      <td>NaN</td>\n",
              "    </tr>\n",
              "    <tr>\n",
              "      <th>8</th>\n",
              "      <td>2010-01-14</td>\n",
              "      <td>70377.0</td>\n",
              "      <td>70508.0</td>\n",
              "      <td>69661.0</td>\n",
              "      <td>68978.0</td>\n",
              "      <td>69801.0</td>\n",
              "      <td>1830200</td>\n",
              "      <td>70191.6</td>\n",
              "      <td>NaN</td>\n",
              "    </tr>\n",
              "    <tr>\n",
              "      <th>9</th>\n",
              "      <td>2010-01-15</td>\n",
              "      <td>69780.0</td>\n",
              "      <td>69788.0</td>\n",
              "      <td>68695.0</td>\n",
              "      <td>69401.0</td>\n",
              "      <td>68978.0</td>\n",
              "      <td>1648400</td>\n",
              "      <td>69934.6</td>\n",
              "      <td>NaN</td>\n",
              "    </tr>\n",
              "  </tbody>\n",
              "</table>\n",
              "</div>"
            ],
            "text/plain": [
              "        Date     Open     High  ...   Volume  MM_5_day  MM_21_day\n",
              "0 2010-01-04  68587.0  70081.0  ...  1655400       NaN        NaN\n",
              "1 2010-01-05  70046.0  70595.0  ...  1984200       NaN        NaN\n",
              "2 2010-01-06  70237.0  70937.0  ...  2243600       NaN        NaN\n",
              "3 2010-01-07  70723.0  70723.0  ...  1555000       NaN        NaN\n",
              "4 2010-01-08  70455.0  70766.0  ...  1634400   70345.6        NaN\n",
              "5 2010-01-11  70267.0  71068.0  ...  1569000   70423.2        NaN\n",
              "6 2010-01-12  70429.0  70429.0  ...  1628600   70390.4        NaN\n",
              "7 2010-01-13  70081.0  70626.0  ...  1818800   70321.6        NaN\n",
              "8 2010-01-14  70377.0  70508.0  ...  1830200   70191.6        NaN\n",
              "9 2010-01-15  69780.0  69788.0  ...  1648400   69934.6        NaN\n",
              "\n",
              "[10 rows x 9 columns]"
            ]
          },
          "metadata": {
            "tags": []
          },
          "execution_count": 9
        }
      ]
    },
    {
      "cell_type": "code",
      "metadata": {
        "colab": {
          "base_uri": "https://localhost:8080/",
          "height": 359
        },
        "id": "U3UQuvYt5vax",
        "outputId": "fe47e957-d99c-45ef-b885-92e86391dab3"
      },
      "source": [
        "#Removendo as colunas com valores nulos. Neste caso vamos perder 21 linhas, devido ao procedimento do shift, feito no passo anterior\r\n",
        "ibov.dropna(inplace=True)\r\n",
        "\r\n",
        "ibov.head(10)"
      ],
      "execution_count": 10,
      "outputs": [
        {
          "output_type": "execute_result",
          "data": {
            "text/html": [
              "<div>\n",
              "<style scoped>\n",
              "    .dataframe tbody tr th:only-of-type {\n",
              "        vertical-align: middle;\n",
              "    }\n",
              "\n",
              "    .dataframe tbody tr th {\n",
              "        vertical-align: top;\n",
              "    }\n",
              "\n",
              "    .dataframe thead th {\n",
              "        text-align: right;\n",
              "    }\n",
              "</style>\n",
              "<table border=\"1\" class=\"dataframe\">\n",
              "  <thead>\n",
              "    <tr style=\"text-align: right;\">\n",
              "      <th></th>\n",
              "      <th>Date</th>\n",
              "      <th>Open</th>\n",
              "      <th>High</th>\n",
              "      <th>Low</th>\n",
              "      <th>Close</th>\n",
              "      <th>Adj Close</th>\n",
              "      <th>Volume</th>\n",
              "      <th>MM_5_day</th>\n",
              "      <th>MM_21_day</th>\n",
              "    </tr>\n",
              "  </thead>\n",
              "  <tbody>\n",
              "    <tr>\n",
              "      <th>20</th>\n",
              "      <td>2010-02-02</td>\n",
              "      <td>66589.0</td>\n",
              "      <td>67321.0</td>\n",
              "      <td>66539.0</td>\n",
              "      <td>67109.0</td>\n",
              "      <td>67163.0</td>\n",
              "      <td>1587800</td>\n",
              "      <td>65959.0</td>\n",
              "      <td>68415.238095</td>\n",
              "    </tr>\n",
              "    <tr>\n",
              "      <th>21</th>\n",
              "      <td>2010-02-03</td>\n",
              "      <td>67163.0</td>\n",
              "      <td>67347.0</td>\n",
              "      <td>66774.0</td>\n",
              "      <td>63934.0</td>\n",
              "      <td>67109.0</td>\n",
              "      <td>1765000</td>\n",
              "      <td>66366.8</td>\n",
              "      <td>68275.428571</td>\n",
              "    </tr>\n",
              "    <tr>\n",
              "      <th>22</th>\n",
              "      <td>2010-02-04</td>\n",
              "      <td>67100.0</td>\n",
              "      <td>67100.0</td>\n",
              "      <td>63750.0</td>\n",
              "      <td>62763.0</td>\n",
              "      <td>63934.0</td>\n",
              "      <td>2262400</td>\n",
              "      <td>66036.0</td>\n",
              "      <td>67975.142857</td>\n",
              "    </tr>\n",
              "    <tr>\n",
              "      <th>23</th>\n",
              "      <td>2010-02-05</td>\n",
              "      <td>63934.0</td>\n",
              "      <td>64001.0</td>\n",
              "      <td>61341.0</td>\n",
              "      <td>63153.0</td>\n",
              "      <td>62763.0</td>\n",
              "      <td>3053000</td>\n",
              "      <td>65508.2</td>\n",
              "      <td>67595.809524</td>\n",
              "    </tr>\n",
              "    <tr>\n",
              "      <th>24</th>\n",
              "      <td>2010-02-08</td>\n",
              "      <td>62760.0</td>\n",
              "      <td>63923.0</td>\n",
              "      <td>62728.0</td>\n",
              "      <td>64718.0</td>\n",
              "      <td>63153.0</td>\n",
              "      <td>1875600</td>\n",
              "      <td>64824.4</td>\n",
              "      <td>67248.285714</td>\n",
              "    </tr>\n",
              "    <tr>\n",
              "      <th>25</th>\n",
              "      <td>2010-02-09</td>\n",
              "      <td>63164.0</td>\n",
              "      <td>65526.0</td>\n",
              "      <td>63164.0</td>\n",
              "      <td>65051.0</td>\n",
              "      <td>64718.0</td>\n",
              "      <td>1357400</td>\n",
              "      <td>64335.4</td>\n",
              "      <td>66984.238095</td>\n",
              "    </tr>\n",
              "    <tr>\n",
              "      <th>26</th>\n",
              "      <td>2010-02-10</td>\n",
              "      <td>64721.0</td>\n",
              "      <td>65170.0</td>\n",
              "      <td>64320.0</td>\n",
              "      <td>66129.0</td>\n",
              "      <td>65051.0</td>\n",
              "      <td>891000</td>\n",
              "      <td>63923.8</td>\n",
              "      <td>66727.952381</td>\n",
              "    </tr>\n",
              "    <tr>\n",
              "      <th>27</th>\n",
              "      <td>2010-02-11</td>\n",
              "      <td>65050.0</td>\n",
              "      <td>66145.0</td>\n",
              "      <td>64344.0</td>\n",
              "      <td>65855.0</td>\n",
              "      <td>66129.0</td>\n",
              "      <td>1259000</td>\n",
              "      <td>64362.8</td>\n",
              "      <td>66540.000000</td>\n",
              "    </tr>\n",
              "    <tr>\n",
              "      <th>28</th>\n",
              "      <td>2010-02-12</td>\n",
              "      <td>66129.0</td>\n",
              "      <td>66133.0</td>\n",
              "      <td>65123.0</td>\n",
              "      <td>67285.0</td>\n",
              "      <td>65855.0</td>\n",
              "      <td>873200</td>\n",
              "      <td>64981.2</td>\n",
              "      <td>66324.285714</td>\n",
              "    </tr>\n",
              "    <tr>\n",
              "      <th>29</th>\n",
              "      <td>2010-02-17</td>\n",
              "      <td>65863.0</td>\n",
              "      <td>67542.0</td>\n",
              "      <td>65863.0</td>\n",
              "      <td>67836.0</td>\n",
              "      <td>67285.0</td>\n",
              "      <td>0</td>\n",
              "      <td>65807.6</td>\n",
              "      <td>66204.476190</td>\n",
              "    </tr>\n",
              "  </tbody>\n",
              "</table>\n",
              "</div>"
            ],
            "text/plain": [
              "         Date     Open     High  ...   Volume  MM_5_day     MM_21_day\n",
              "20 2010-02-02  66589.0  67321.0  ...  1587800   65959.0  68415.238095\n",
              "21 2010-02-03  67163.0  67347.0  ...  1765000   66366.8  68275.428571\n",
              "22 2010-02-04  67100.0  67100.0  ...  2262400   66036.0  67975.142857\n",
              "23 2010-02-05  63934.0  64001.0  ...  3053000   65508.2  67595.809524\n",
              "24 2010-02-08  62760.0  63923.0  ...  1875600   64824.4  67248.285714\n",
              "25 2010-02-09  63164.0  65526.0  ...  1357400   64335.4  66984.238095\n",
              "26 2010-02-10  64721.0  65170.0  ...   891000   63923.8  66727.952381\n",
              "27 2010-02-11  65050.0  66145.0  ...  1259000   64362.8  66540.000000\n",
              "28 2010-02-12  66129.0  66133.0  ...   873200   64981.2  66324.285714\n",
              "29 2010-02-17  65863.0  67542.0  ...        0   65807.6  66204.476190\n",
              "\n",
              "[10 rows x 9 columns]"
            ]
          },
          "metadata": {
            "tags": []
          },
          "execution_count": 10
        }
      ]
    },
    {
      "cell_type": "code",
      "metadata": {
        "colab": {
          "base_uri": "https://localhost:8080/",
          "height": 359
        },
        "id": "z0lwn8r6SJrf",
        "outputId": "b735bd04-6909-4a69-d0e4-7c17b2377f31"
      },
      "source": [
        "#Reindexando o data frame ibov\r\n",
        "ibov = ibov.reset_index(drop=True)\r\n",
        "ibov.head(10)"
      ],
      "execution_count": 11,
      "outputs": [
        {
          "output_type": "execute_result",
          "data": {
            "text/html": [
              "<div>\n",
              "<style scoped>\n",
              "    .dataframe tbody tr th:only-of-type {\n",
              "        vertical-align: middle;\n",
              "    }\n",
              "\n",
              "    .dataframe tbody tr th {\n",
              "        vertical-align: top;\n",
              "    }\n",
              "\n",
              "    .dataframe thead th {\n",
              "        text-align: right;\n",
              "    }\n",
              "</style>\n",
              "<table border=\"1\" class=\"dataframe\">\n",
              "  <thead>\n",
              "    <tr style=\"text-align: right;\">\n",
              "      <th></th>\n",
              "      <th>Date</th>\n",
              "      <th>Open</th>\n",
              "      <th>High</th>\n",
              "      <th>Low</th>\n",
              "      <th>Close</th>\n",
              "      <th>Adj Close</th>\n",
              "      <th>Volume</th>\n",
              "      <th>MM_5_day</th>\n",
              "      <th>MM_21_day</th>\n",
              "    </tr>\n",
              "  </thead>\n",
              "  <tbody>\n",
              "    <tr>\n",
              "      <th>0</th>\n",
              "      <td>2010-02-02</td>\n",
              "      <td>66589.0</td>\n",
              "      <td>67321.0</td>\n",
              "      <td>66539.0</td>\n",
              "      <td>67109.0</td>\n",
              "      <td>67163.0</td>\n",
              "      <td>1587800</td>\n",
              "      <td>65959.0</td>\n",
              "      <td>68415.238095</td>\n",
              "    </tr>\n",
              "    <tr>\n",
              "      <th>1</th>\n",
              "      <td>2010-02-03</td>\n",
              "      <td>67163.0</td>\n",
              "      <td>67347.0</td>\n",
              "      <td>66774.0</td>\n",
              "      <td>63934.0</td>\n",
              "      <td>67109.0</td>\n",
              "      <td>1765000</td>\n",
              "      <td>66366.8</td>\n",
              "      <td>68275.428571</td>\n",
              "    </tr>\n",
              "    <tr>\n",
              "      <th>2</th>\n",
              "      <td>2010-02-04</td>\n",
              "      <td>67100.0</td>\n",
              "      <td>67100.0</td>\n",
              "      <td>63750.0</td>\n",
              "      <td>62763.0</td>\n",
              "      <td>63934.0</td>\n",
              "      <td>2262400</td>\n",
              "      <td>66036.0</td>\n",
              "      <td>67975.142857</td>\n",
              "    </tr>\n",
              "    <tr>\n",
              "      <th>3</th>\n",
              "      <td>2010-02-05</td>\n",
              "      <td>63934.0</td>\n",
              "      <td>64001.0</td>\n",
              "      <td>61341.0</td>\n",
              "      <td>63153.0</td>\n",
              "      <td>62763.0</td>\n",
              "      <td>3053000</td>\n",
              "      <td>65508.2</td>\n",
              "      <td>67595.809524</td>\n",
              "    </tr>\n",
              "    <tr>\n",
              "      <th>4</th>\n",
              "      <td>2010-02-08</td>\n",
              "      <td>62760.0</td>\n",
              "      <td>63923.0</td>\n",
              "      <td>62728.0</td>\n",
              "      <td>64718.0</td>\n",
              "      <td>63153.0</td>\n",
              "      <td>1875600</td>\n",
              "      <td>64824.4</td>\n",
              "      <td>67248.285714</td>\n",
              "    </tr>\n",
              "    <tr>\n",
              "      <th>5</th>\n",
              "      <td>2010-02-09</td>\n",
              "      <td>63164.0</td>\n",
              "      <td>65526.0</td>\n",
              "      <td>63164.0</td>\n",
              "      <td>65051.0</td>\n",
              "      <td>64718.0</td>\n",
              "      <td>1357400</td>\n",
              "      <td>64335.4</td>\n",
              "      <td>66984.238095</td>\n",
              "    </tr>\n",
              "    <tr>\n",
              "      <th>6</th>\n",
              "      <td>2010-02-10</td>\n",
              "      <td>64721.0</td>\n",
              "      <td>65170.0</td>\n",
              "      <td>64320.0</td>\n",
              "      <td>66129.0</td>\n",
              "      <td>65051.0</td>\n",
              "      <td>891000</td>\n",
              "      <td>63923.8</td>\n",
              "      <td>66727.952381</td>\n",
              "    </tr>\n",
              "    <tr>\n",
              "      <th>7</th>\n",
              "      <td>2010-02-11</td>\n",
              "      <td>65050.0</td>\n",
              "      <td>66145.0</td>\n",
              "      <td>64344.0</td>\n",
              "      <td>65855.0</td>\n",
              "      <td>66129.0</td>\n",
              "      <td>1259000</td>\n",
              "      <td>64362.8</td>\n",
              "      <td>66540.000000</td>\n",
              "    </tr>\n",
              "    <tr>\n",
              "      <th>8</th>\n",
              "      <td>2010-02-12</td>\n",
              "      <td>66129.0</td>\n",
              "      <td>66133.0</td>\n",
              "      <td>65123.0</td>\n",
              "      <td>67285.0</td>\n",
              "      <td>65855.0</td>\n",
              "      <td>873200</td>\n",
              "      <td>64981.2</td>\n",
              "      <td>66324.285714</td>\n",
              "    </tr>\n",
              "    <tr>\n",
              "      <th>9</th>\n",
              "      <td>2010-02-17</td>\n",
              "      <td>65863.0</td>\n",
              "      <td>67542.0</td>\n",
              "      <td>65863.0</td>\n",
              "      <td>67836.0</td>\n",
              "      <td>67285.0</td>\n",
              "      <td>0</td>\n",
              "      <td>65807.6</td>\n",
              "      <td>66204.476190</td>\n",
              "    </tr>\n",
              "  </tbody>\n",
              "</table>\n",
              "</div>"
            ],
            "text/plain": [
              "        Date     Open     High  ...   Volume  MM_5_day     MM_21_day\n",
              "0 2010-02-02  66589.0  67321.0  ...  1587800   65959.0  68415.238095\n",
              "1 2010-02-03  67163.0  67347.0  ...  1765000   66366.8  68275.428571\n",
              "2 2010-02-04  67100.0  67100.0  ...  2262400   66036.0  67975.142857\n",
              "3 2010-02-05  63934.0  64001.0  ...  3053000   65508.2  67595.809524\n",
              "4 2010-02-08  62760.0  63923.0  ...  1875600   64824.4  67248.285714\n",
              "5 2010-02-09  63164.0  65526.0  ...  1357400   64335.4  66984.238095\n",
              "6 2010-02-10  64721.0  65170.0  ...   891000   63923.8  66727.952381\n",
              "7 2010-02-11  65050.0  66145.0  ...  1259000   64362.8  66540.000000\n",
              "8 2010-02-12  66129.0  66133.0  ...   873200   64981.2  66324.285714\n",
              "9 2010-02-17  65863.0  67542.0  ...        0   65807.6  66204.476190\n",
              "\n",
              "[10 rows x 9 columns]"
            ]
          },
          "metadata": {
            "tags": []
          },
          "execution_count": 11
        }
      ]
    },
    {
      "cell_type": "code",
      "metadata": {
        "colab": {
          "base_uri": "https://localhost:8080/",
          "height": 467
        },
        "id": "D2HEu-g_rgF1",
        "outputId": "80d303b3-c11d-4600-a787-86757eba2338"
      },
      "source": [
        "#Gerando o gráfico com as médias móveis em relação ao valor de fechamento da cotação, durante todo o periodo analisado\r\n",
        "ibov[\"Close\"].plot(figsize=(22,8), label=\"IBOV\")\r\n",
        "ibov[\"MM_5_day\"].plot(label=\"MM_5_day\")\r\n",
        "ibov[\"MM_21_day\"].plot(label=\"MM_21_day\")\r\n",
        "pl.legend();"
      ],
      "execution_count": 12,
      "outputs": [
        {
          "output_type": "display_data",
          "data": {
            "image/png": "[encoded data removed]",
            "text/plain": [
              "<Figure size 1584x576 with 1 Axes>"
            ]
          },
          "metadata": {
            "tags": []
          }
        }
      ]
    },
    {
      "cell_type": "markdown",
      "metadata": {
        "id": "y0ycTZ1h9aKe"
      },
      "source": [
        "## <strong>Separando as Features a labels do modelo</strong>"
      ]
    },
    {
      "cell_type": "code",
      "metadata": {
        "id": "eetxwBbBUY9a"
      },
      "source": [
        "#Sepadando features e as labels \r\n",
        "features = ibov.drop(['Date','Close','Adj Close'],1)\r\n",
        "labels = ibov['Close']"
      ],
      "execution_count": 13,
      "outputs": []
    },
    {
      "cell_type": "code",
      "metadata": {
        "colab": {
          "base_uri": "https://localhost:8080/"
        },
        "id": "CXYv6fQcWJa2",
        "outputId": "4b8c7bbd-accc-46be-d5d3-c01e74bbbf89"
      },
      "source": [
        "# Utilizando o Kbest, para descobrir qual são as melhores features para o modelo\r\n",
        "# https://scikit-learn.org/stable/modules/generated/sklearn.feature_selection.SelectKBest.html\r\n",
        "\r\n",
        "features_list = ('Open','Volume','Adj Close','MM_5_day','MM_21_day')\r\n",
        "\r\n",
        "#Selecionar os recursos de acordo com as pontuações mais altas\r\n",
        "k_best_features = SelectKBest(k='all')\r\n",
        "\r\n",
        "#Ajusta aos dados e transformá-los\r\n",
        "k_best_features.fit_transform(features, labels)\r\n",
        "\r\n",
        "#Scores das features\r\n",
        "k_best_features_score = k_best_features.scores_\r\n",
        "\r\n",
        "raw_pairs = zip(features_list[1:], k_best_features_score)\r\n",
        "\r\n",
        "ordered_pairs = list(reversed(sorted(raw_pairs, key=lambda x: x[1])))\r\n",
        "\r\n",
        "k_best_features_final = dict(ordered_pairs[:15])\r\n",
        "best_features = k_best_features_final.keys()\r\n",
        "\r\n",
        "#Exibindo as melhores features\r\n",
        "print (\"Best features:\")\r\n",
        "print (k_best_features_final)"
      ],
      "execution_count": 14,
      "outputs": [
        {
          "output_type": "stream",
          "text": [
            "Best features:\n",
            "{'MM_5_day': 382.8535362380794, 'Adj Close': 369.04007790860135, 'Volume': 232.0301803913857, 'MM_21_day': 1.914659380013251}\n"
          ],
          "name": "stdout"
        }
      ]
    },
    {
      "cell_type": "code",
      "metadata": {
        "id": "SqtcFi4reMAP"
      },
      "source": [
        "#Vamos deixar somente as melhores features, conforme listado no passo anterior\r\n",
        "features = ibov.drop(['Open', 'Date','Close','MM_21_day'],1)"
      ],
      "execution_count": 15,
      "outputs": []
    },
    {
      "cell_type": "markdown",
      "metadata": {
        "id": "kd6FjLTb9gsc"
      },
      "source": [
        "## <strong>Normalizando os dados</strong>"
      ]
    },
    {
      "cell_type": "code",
      "metadata": {
        "colab": {
          "base_uri": "https://localhost:8080/"
        },
        "id": "xl67f7O8e47s",
        "outputId": "a8ec8a82-5492-4886-b6da-ddacb856f2eb"
      },
      "source": [
        "#Normalizando as features \r\n",
        "\r\n",
        "scaler = MinMaxScaler().fit(features)\r\n",
        "\r\n",
        "features_scale = scaler.transform(features)\r\n",
        "\r\n",
        "#Exibindo as features normalizadas\r\n",
        "print (features_scale)"
      ],
      "execution_count": 16,
      "outputs": [
        {
          "output_type": "stream",
          "text": [
            "[[0.35911331 0.36383262 0.36164377 0.08226943 0.34920588]\n",
            " [0.35943209 0.36673164 0.36098548 0.09145078 0.35426119]\n",
            " [0.35640372 0.32942686 0.3222806  0.1172228  0.35016041]\n",
            " ...\n",
            " [0.93793678 0.93240976 0.9280394  0.4991658  0.92832314]\n",
            " [0.93609769 0.93476598 0.92738111 0.45652332 0.93386688]\n",
            " [0.93167161 0.93164491 0.91703137 0.43684456 0.93611809]]\n"
          ],
          "name": "stdout"
        }
      ]
    },
    {
      "cell_type": "markdown",
      "metadata": {
        "id": "vZb33F_V9mkc"
      },
      "source": [
        "## <strong>Separando os dados em treino, teste e validação</strong>"
      ]
    },
    {
      "cell_type": "code",
      "metadata": {
        "id": "NTTbMQzPf6fy"
      },
      "source": [
        "#Separando os dados de treino e teste\r\n",
        "\r\n",
        "_total = len(ibov)\r\n",
        "_treino = _total -800\r\n",
        "_teste = _total -15\r\n",
        "_validacao  = _treino - _teste\r\n",
        "\r\n",
        "x_train = features_scale[:_treino]\r\n",
        "x_test = features_scale[_treino:_teste]\r\n",
        "\r\n",
        "y_train = labels[:_treino]\r\n",
        "y_test = labels[_treino:_teste]\r\n"
      ],
      "execution_count": 17,
      "outputs": []
    },
    {
      "cell_type": "markdown",
      "metadata": {
        "id": "7XM5U8WY9vNG"
      },
      "source": [
        "## <strong>Funções auxiliares</strong>"
      ]
    },
    {
      "cell_type": "code",
      "metadata": {
        "id": "7hgp13wcrjuR"
      },
      "source": [
        "# Função para imprimir o Coeficiente de determinação\r\n",
        "def printCD(cd):\r\n",
        "    print(f'Coeficiente de determinação:{cd * 100:.2f}')"
      ],
      "execution_count": 21,
      "outputs": []
    },
    {
      "cell_type": "markdown",
      "metadata": {
        "id": "BQxfo7Zw9zvo"
      },
      "source": [
        "## <strong>Treinamento do modelo</strong>"
      ]
    },
    {
      "cell_type": "code",
      "metadata": {
        "colab": {
          "base_uri": "https://localhost:8080/"
        },
        "id": "iw3Nu9cUoXcR",
        "outputId": "ca53af70-b921-47ca-fa82-71358d75ac12"
      },
      "source": [
        "#treinamento utilizando Rede Neural\r\n",
        "\r\n",
        "rn = MLPRegressor(max_iter=2000)\r\n",
        "\r\n",
        "rn.fit(x_train,y_train)\r\n",
        "\r\n",
        "pred = rn.predict(x_test)\r\n",
        "\r\n",
        "cd = rn.score(x_test,y_test)\r\n",
        "\r\n",
        "printCD(cd)"
      ],
      "execution_count": 20,
      "outputs": [
        {
          "output_type": "stream",
          "text": [
            "Coeficiente de determinação:-2.91\n"
          ],
          "name": "stdout"
        },
        {
          "output_type": "stream",
          "text": [
            "/usr/local/lib/python3.6/dist-packages/sklearn/neural_network/_multilayer_perceptron.py:571: ConvergenceWarning: Stochastic Optimizer: Maximum iterations (2000) reached and the optimization hasn't converged yet.\n",
            "  % self.max_iter, ConvergenceWarning)\n"
          ],
          "name": "stderr"
        }
      ]
    },
    {
      "cell_type": "code",
      "metadata": {
        "colab": {
          "base_uri": "https://localhost:8080/"
        },
        "id": "LSvLfRJqogEM",
        "outputId": "5f79d249-83a2-43fe-a06e-ba04a0577899"
      },
      "source": [
        "#treinamento utilizando Rede Neural com hyper parameters\r\n",
        "\r\n",
        "rn = MLPRegressor()\r\n",
        "\r\n",
        "_parameters = {\r\n",
        "    'hidden_layer_sizes': [(i,) for i in list(range(1,21))],\r\n",
        "    'activation':['tanh','relu'],\r\n",
        "    'solver':['sgd','adam','lbfgs'],\r\n",
        "    'alpha':[0.0001,0.05],\r\n",
        "    'learning_rate':['constant','adaptive']\r\n",
        "}\r\n",
        "\r\n",
        "search = GridSearchCV(rn,_parameters, n_jobs=-1,cv=5)\r\n",
        "\r\n",
        "search.fit(x_train,y_train)\r\n",
        "\r\n",
        "clf = search.best_estimator_\r\n",
        "\r\n",
        "pred = search.score(x_test,y_test)\r\n",
        "\r\n",
        "cd = search.score(x_test,y_test)\r\n",
        "\r\n",
        "printCD(cd)"
      ],
      "execution_count": null,
      "outputs": [
        {
          "output_type": "stream",
          "text": [
            "Coeficiente de determinação:98.82\n"
          ],
          "name": "stdout"
        }
      ]
    },
    {
      "cell_type": "code",
      "metadata": {
        "colab": {
          "base_uri": "https://localhost:8080/"
        },
        "id": "SFCVKKxGgrkC",
        "outputId": "1bb83131-48e9-4664-fbcc-201a822ad8c3"
      },
      "source": [
        "#treinamento utilizando Regressão linear\r\n",
        "\r\n",
        "lr = linear_model.LinearRegression()\r\n",
        "\r\n",
        "lr.fit(x_train, y_train)\r\n",
        "pred = lr.predict(x_test)\r\n",
        "\r\n",
        "cd = r2_score(y_test, pred)\r\n",
        "\r\n",
        "printCD(cd)"
      ],
      "execution_count": null,
      "outputs": [
        {
          "output_type": "stream",
          "text": [
            "Coeficiente de determinação:98.82\n"
          ],
          "name": "stdout"
        }
      ]
    },
    {
      "cell_type": "markdown",
      "metadata": {
        "id": "R_ieoptF97qu"
      },
      "source": [
        "## <strong>Realizando previsão com o melhor modelo</strong>"
      ]
    },
    {
      "cell_type": "code",
      "metadata": {
        "colab": {
          "base_uri": "https://localhost:8080/"
        },
        "id": "Tv30KQtioRfx",
        "outputId": "b702756a-db74-48dd-c5c9-90705cc4ac47"
      },
      "source": [
        "#Realizando a Previsão - Regressão linear\r\n",
        "#Como a regração linear teve um Coeficiente de determinação:97.48, \r\n",
        "#foi o melhor entre os três\r\n",
        "\r\n",
        "previsao = features_scale[_teste:_total]\r\n",
        "\r\n",
        "pregao_geral = ibov['Date']\r\n",
        "\r\n",
        "pregao = pregao_geral[_teste:_total]\r\n",
        "\r\n",
        "fechamento_full = ibov['Close']\r\n",
        "fechamento = fechamento_full[_teste:_total]\r\n",
        "\r\n",
        "pred = lr.predict(previsao)\r\n",
        "\r\n",
        "ibov_previsao = pd.DataFrame({'Data':pregao,'real':fechamento,'previsao':pred})\r\n",
        "ibov_previsao['real'] = ibov_previsao['real'].shift(+1)\r\n",
        "ibov_previsao.dropna(inplace=True)\r\n",
        "ibov_previsao.set_index('Data', inplace=True)\r\n",
        "\r\n",
        "print(ibov_previsao)"
      ],
      "execution_count": null,
      "outputs": [
        {
          "output_type": "stream",
          "text": [
            "                real       previsao\n",
            "Data                               \n",
            "2020-11-18  106517.0  107023.123491\n",
            "2020-11-19  107379.0  109291.164456\n",
            "2020-11-23  109786.0  110095.507200\n",
            "2020-11-24  110133.0  109565.992407\n",
            "2020-11-25  110227.0  109578.491358\n",
            "2020-11-26  110575.0  110433.122800\n",
            "2020-11-27  108888.0  109656.578859\n",
            "2020-11-30  111335.0  111659.787210\n",
            "2020-12-01  111814.0  112454.340161\n",
            "2020-12-02  112919.0  112465.236538\n",
            "2020-12-03  113682.0  113207.474584\n",
            "2020-12-04  113625.0  113641.669186\n",
            "2020-12-07  113571.0  113255.709175\n",
            "2020-12-08  112722.0  114137.534135\n"
          ],
          "name": "stdout"
        }
      ]
    },
    {
      "cell_type": "markdown",
      "metadata": {
        "id": "aeQJ0SFS-CeY"
      },
      "source": [
        "## <strong>Gáfico comparando preço real com preço previsto</strong>"
      ]
    },
    {
      "cell_type": "code",
      "metadata": {
        "colab": {
          "base_uri": "https://localhost:8080/",
          "height": 518
        },
        "id": "2DeX7Onv2BIr",
        "outputId": "9685428d-52b5-4c36-cfb9-79aa2ffc2078"
      },
      "source": [
        "#Grafico comprativo Real X Previsto\r\n",
        "\r\n",
        "pl.figure(figsize=(16,8))\r\n",
        "pl.title('Real x Previsão')\r\n",
        "pl.plot(ibov_previsao['real'],label=\"real\",color='blue', marker='o')\r\n",
        "pl.plot(ibov_previsao['previsao'],label=\"previsao\",color='red', marker='o')\r\n",
        "pl.xlabel('Data')\r\n",
        "pl.ylabel('Valor')\r\n",
        "leg = pl.legend()"
      ],
      "execution_count": null,
      "outputs": [
        {
          "output_type": "display_data",
          "data": {
            "image/png": "[encoded data removed]",
            "text/plain": [
              "<Figure size 1152x576 with 1 Axes>"
            ]
          },
          "metadata": {
            "tags": []
          }
        }
      ]
    }
  ]
}